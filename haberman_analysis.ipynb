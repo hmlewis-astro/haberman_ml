{
 "cells": [
  {
   "cell_type": "markdown",
   "metadata": {},
   "source": [
    "# Import libraries and set up default plot params\n",
    "\n",
    "#### Note, this cell picks the path from which you want to load tha data and to which you want to save all figures as your current working directory (`cwd`).\n",
    "#### If you want to load from/save to a different path, edit the `path`."
   ]
  },
  {
   "cell_type": "code",
   "execution_count": null,
   "metadata": {},
   "outputs": [],
   "source": [
    "# Import libraries\n",
    "import sys\n",
    "import os\n",
    "\n",
    "path = os.getcwd()\n",
    "\n",
    "import matplotlib\n",
    "import matplotlib.pyplot as plt\n",
    "\n",
    "import numpy as np\n",
    "\n",
    "import pandas as pd\n",
    "\n",
    "import scipy.stats\n",
    "from scipy.stats import norm, ks_2samp\n",
    "\n",
    "# Set default tick label size\n",
    "matplotlib.rcParams.update({'xtick.labelsize': 16})\n",
    "matplotlib.rcParams.update({'ytick.labelsize': 16})"
   ]
  },
  {
   "cell_type": "markdown",
   "metadata": {},
   "source": [
    "# Read in the data"
   ]
  },
  {
   "cell_type": "code",
   "execution_count": null,
   "metadata": {},
   "outputs": [],
   "source": [
    "# Read in the csv file\n",
    "df = pd.read_csv(path + '/' + 'haberman.data.csv')"
   ]
  },
  {
   "cell_type": "markdown",
   "metadata": {},
   "source": [
    "## Understand the data\n",
    "\n",
    "#### The data frame has the following columns:\n",
    "- AGE   == Age of patient at time of operation  \n",
    "- YEAR  == Patient's year of operation (year - 1900)  \n",
    "- NODES == Number of positive axillary nodes detected  \n",
    "- STATE == Survival status,  \n",
    "    - 1 == Patient survived 5 years or longer  \n",
    "    - 2 == Patient died within 5 years"
   ]
  },
  {
   "cell_type": "code",
   "execution_count": null,
   "metadata": {},
   "outputs": [],
   "source": [
    "# Print the first 5 rows of the df\n",
    "df.head()\n"
   ]
  },
  {
   "cell_type": "markdown",
   "metadata": {},
   "source": [
    "#### Check the five-number summary (min, max, mean, stdev, quartiles) for each column"
   ]
  },
  {
   "cell_type": "code",
   "execution_count": null,
   "metadata": {},
   "outputs": [],
   "source": [
    "# Get statistics of the data set\n",
    "df.describe()\n"
   ]
  },
  {
   "cell_type": "markdown",
   "metadata": {},
   "source": [
    "#### Find the number of patients in each state, where state 1 means that the patient survived 5 years or longer, and state 2 tells us that the patient died within 5 years"
   ]
  },
  {
   "cell_type": "code",
   "execution_count": null,
   "metadata": {},
   "outputs": [],
   "source": [
    "# Count each state/status type\n",
    "df['STATE'].value_counts()\n"
   ]
  },
  {
   "cell_type": "markdown",
   "metadata": {},
   "source": [
    "## Divide the data into groups of interest\n",
    "\n",
    "#### Divide the data into two subsets, based on the patient's state"
   ]
  },
  {
   "cell_type": "code",
   "execution_count": null,
   "metadata": {},
   "outputs": [],
   "source": [
    "# Split the data into two subsets\n",
    "df_survival_yes = df[df['STATE'] == 1]\n",
    "df_survival_no = df[df['STATE'] == 2]\n"
   ]
  },
  {
   "cell_type": "markdown",
   "metadata": {},
   "source": [
    "#### Check the five-number summary (min, max, mean, stdev, quartiles) for each subset"
   ]
  },
  {
   "cell_type": "code",
   "execution_count": null,
   "metadata": {},
   "outputs": [],
   "source": [
    "# Get statistics of the data subset\n",
    "df_survival_yes.describe()\n"
   ]
  },
  {
   "cell_type": "code",
   "execution_count": null,
   "metadata": {},
   "outputs": [],
   "source": [
    "# Get statistics of the data subset\n",
    "df_survival_no.describe()\n"
   ]
  },
  {
   "cell_type": "markdown",
   "metadata": {},
   "source": [
    "# Data Analysis\n",
    "\n",
    "#### Compare the distributions of each parameter (age, year, nodes) for each group"
   ]
  },
  {
   "cell_type": "code",
   "execution_count": null,
   "metadata": {},
   "outputs": [],
   "source": [
    "fig = plt.figure(figsize=(8,8))\n",
    "\n",
    "# Plot the histograms\n",
    "plt.hist(df_survival_yes['AGE'], bins=np.arange(30,90,5), \n",
    "         lw=2, histtype='stepfilled', alpha=0.3, density=True, \n",
    "         color='dodgerblue', \n",
    "         label='Patient survived 5+ years after surgery, n={}'.format(len(df_survival_yes)))\n",
    "\n",
    "plt.hist(df_survival_no['AGE'], bins=np.arange(30,90,5), \n",
    "         lw=2, histtype='stepfilled', alpha=0.3, density=True, \n",
    "         color='darkorange', \n",
    "         label='Patient died within 5 years of surgery, n={}'.format(len(df_survival_no)))\n",
    "\n",
    "# Find the best fit Gaussians for each distribution\n",
    "xmin, xmax = [30,83]\n",
    "x = np.linspace(xmin, xmax, 100)\n",
    "\n",
    "mean_yes,std_yes = norm.fit(df_survival_yes['AGE'])\n",
    "y_yes = norm.pdf(x, mean_yes, std_yes)\n",
    "plt.plot(x, y_yes, lw=3, color='dodgerblue')\n",
    "\n",
    "mean_no,std_no = norm.fit(df_survival_no['AGE'])\n",
    "y_no = norm.pdf(x, mean_no, std_no)\n",
    "plt.plot(x, y_no, lw=3, color='darkorange')\n",
    "\n",
    "# Plot formatting\n",
    "plt.xlabel('Age of patient at time of surgery',fontsize=20)\n",
    "plt.ylabel('Relative fraction',fontsize=20)\n",
    "plt.legend(loc=2, fontsize=14)\n",
    "\n",
    "plt.xlim(30,83)\n",
    "plt.ylim(0.000,0.055)\n",
    "\n",
    "# Save figure\n",
    "plt.tight_layout()\n",
    "\n",
    "plt.savefig(path + '/' + 'haberman_age_survival.pdf', fig=fig)\n"
   ]
  },
  {
   "cell_type": "code",
   "execution_count": null,
   "metadata": {},
   "outputs": [],
   "source": [
    "fig = plt.figure(figsize=(8,8))\n",
    "\n",
    "# Plot the histograms\n",
    "plt.hist(df_survival_yes['YEAR'], bins=np.arange(58,70,1), \n",
    "         lw=2, histtype='stepfilled', alpha=0.3, density=True, \n",
    "         color='dodgerblue', \n",
    "         label='Patient survived 5+ years after surgery, n={}'.format(len(df_survival_yes)))\n",
    "\n",
    "plt.hist(df_survival_no['YEAR'], bins=np.arange(58,70,1), \n",
    "         lw=2, histtype='stepfilled', alpha=0.3, density=True, \n",
    "         color='darkorange', \n",
    "         label='Patient died within 5 years of surgery, n={}'.format(len(df_survival_no)))\n",
    "\n",
    "# Plot formatting\n",
    "plt.xlabel('Year of operation',fontsize=20)\n",
    "plt.ylabel('Relative fraction',fontsize=20)\n",
    "plt.legend(loc=2, fontsize=14)\n",
    "\n",
    "plt.ylim(0.00,0.20)\n",
    "\n",
    "# Save figure\n",
    "plt.tight_layout()\n",
    "\n",
    "plt.savefig(path + '/' + 'haberman_year_survival.pdf', fig=fig)\n"
   ]
  },
  {
   "cell_type": "code",
   "execution_count": null,
   "metadata": {},
   "outputs": [],
   "source": [
    "fig = plt.figure(figsize=(8,8))\n",
    "\n",
    "# Plot the histograms\n",
    "plt.hist(df_survival_yes['NODES'], bins=np.arange(0,55,2), \n",
    "         lw=2, histtype='stepfilled', alpha=0.3, density=True, \n",
    "         color='dodgerblue', \n",
    "         label='Patient survived 5+ years after surgery, n={}'.format(len(df_survival_yes)))\n",
    "\n",
    "plt.hist(df_survival_no['NODES'], bins=np.arange(0,55,2), \n",
    "         lw=2, histtype='stepfilled', alpha=0.3, density=True, \n",
    "         color='darkorange', \n",
    "         label='Patient died within 5 years of surgery, n={}'.format(len(df_survival_no)))\n",
    "\n",
    "# Find the best fit Gaussians for each distribution\n",
    "xmin, xmax = [-55,55]\n",
    "x = np.linspace(xmin, xmax, 100)\n",
    "\n",
    "# Want a Gaussian with mu = 0 nodes\n",
    "# Create a new list of the nodes data that includes the nodes data, as well as the negative nodes data\n",
    "df_nodes_gaussian_yes = []\n",
    "for i,n in enumerate(df_survival_yes['NODES']):\n",
    "    df_nodes_gaussian_yes.append(n)\n",
    "    df_nodes_gaussian_yes.append(-1*n)\n",
    "\n",
    "mean_yes,std_yes = norm.fit(df_nodes_gaussian_yes)\n",
    "y_yes = norm.pdf(x, mean_yes, std_yes)\n",
    "plt.plot(x, y_yes, lw=3, color='dodgerblue')\n",
    "\n",
    "df_nodes_gaussian_no = []\n",
    "for i,n in enumerate(df_survival_no['NODES']):\n",
    "    df_nodes_gaussian_no.append(n)\n",
    "    df_nodes_gaussian_no.append(-1*n)\n",
    "\n",
    "mean_no,std_no = norm.fit(df_nodes_gaussian_no)\n",
    "y_no = norm.pdf(x, mean_no, std_no)\n",
    "plt.plot(x, y_no, lw=3, color='darkorange')\n",
    "\n",
    "# Plot formatting\n",
    "plt.xlabel('Number of positive axillary nodes detected',fontsize=20)\n",
    "plt.ylabel('Relative fraction',fontsize=20)\n",
    "plt.legend(loc=2, fontsize=14)\n",
    "\n",
    "plt.xlim(0,55)\n",
    "plt.ylim(0.00,0.40)\n",
    "\n",
    "# Save figure\n",
    "plt.tight_layout()\n",
    "\n",
    "plt.savefig(path + '/' + 'haberman_nodes_survival.pdf')\n"
   ]
  },
  {
   "cell_type": "markdown",
   "metadata": {},
   "source": [
    "#### Combine all of those distributions into a single figure"
   ]
  },
  {
   "cell_type": "code",
   "execution_count": null,
   "metadata": {},
   "outputs": [],
   "source": [
    "fig, [ax1, ax2, ax3] = plt.subplots(1,3, figsize=(23,8))\n",
    "\n",
    "ax1.hist(df_survival_yes['AGE'], bins=np.arange(30,90,5), \n",
    "         lw=2, histtype='stepfilled', alpha=0.3, density=True, \n",
    "         color='dodgerblue', \n",
    "         label='Patient survived 5+ years after surgery, n={}'.format(len(df_survival_yes)))\n",
    "\n",
    "ax1.hist(df_survival_no['AGE'], bins=np.arange(30,90,5), \n",
    "         lw=2, histtype='stepfilled', alpha=0.3, density=True, \n",
    "         color='darkorange', \n",
    "         label='Patient died within 5 years of surgery, n={}'.format(len(df_survival_no)))\n",
    "\n",
    "xmin, xmax = [30,83]\n",
    "x = np.linspace(xmin, xmax, 100)\n",
    "\n",
    "mean_yes,std_yes = norm.fit(df_survival_yes['AGE'])\n",
    "y_yes = norm.pdf(x, mean_yes, std_yes)\n",
    "ax1.plot(x, y_yes, lw=3, color='dodgerblue')\n",
    "\n",
    "mean_no,std_no = norm.fit(df_survival_no['AGE'])\n",
    "y_no = norm.pdf(x, mean_no, std_no)\n",
    "ax1.plot(x, y_no, lw=3, color='darkorange')\n",
    "\n",
    "ax1.set_xlabel('Age of patient at time of surgery',fontsize=20)\n",
    "ax1.set_ylabel('Relative fraction',fontsize=20)\n",
    "\n",
    "ax1.set_xlim(30,84)\n",
    "\n",
    "ax2.hist(df_survival_yes['NODES'], bins=np.arange(0,55,2), \n",
    "         lw=2, histtype='stepfilled', alpha=0.3, density=True, \n",
    "         color='dodgerblue', \n",
    "         label='Patient survived 5+ years after surgery, n={}'.format(len(df_survival_yes)))\n",
    "\n",
    "ax2.hist(df_survival_no['NODES'], bins=np.arange(0,55,2), \n",
    "         lw=2, histtype='stepfilled', alpha=0.3, density=True, \n",
    "         color='darkorange', \n",
    "         label='Patient died within 5 years of surgery, n={}'.format(len(df_survival_no)))\n",
    "\n",
    "xmin, xmax = [-55,55]\n",
    "x = np.linspace(xmin, xmax, 100)\n",
    "\n",
    "df_nodes_gaussian_yes = []\n",
    "for i,n in enumerate(df_survival_yes['NODES']):\n",
    "    df_nodes_gaussian_yes.append(n)\n",
    "    df_nodes_gaussian_yes.append(-1*n)\n",
    "\n",
    "mean_yes,std_yes = norm.fit(df_nodes_gaussian_yes)\n",
    "y_yes = norm.pdf(x, mean_yes, std_yes)\n",
    "ax2.plot(x, y_yes, lw=3, color='dodgerblue')\n",
    "\n",
    "df_nodes_gaussian_no = []\n",
    "for i,n in enumerate(df_survival_no['NODES']):\n",
    "    df_nodes_gaussian_no.append(n)\n",
    "    df_nodes_gaussian_no.append(-1*n)\n",
    "\n",
    "mean_no,std_no = norm.fit(df_nodes_gaussian_no)\n",
    "y_no = norm.pdf(x, mean_no, std_no)\n",
    "ax2.plot(x, y_no, lw=3, color='darkorange')\n",
    "\n",
    "ax2.set_xlabel('Number of positive axillary nodes detected',fontsize=20)\n",
    "ax2.set_ylabel('Relative fraction',fontsize=20)\n",
    "\n",
    "ax2.set_xlim(0,54)\n",
    "\n",
    "ax3.hist(df_survival_yes['YEAR'], bins=np.arange(58,70,1), \n",
    "         lw=2, histtype='stepfilled', alpha=0.3, density=True, \n",
    "         color='dodgerblue', \n",
    "         label='Patient survived 5+ years after surgery, n={}'.format(len(df_survival_yes)))\n",
    "\n",
    "ax3.hist(df_survival_no['YEAR'], bins=np.arange(58,70,1), \n",
    "         lw=2, histtype='stepfilled', alpha=0.3, density=True, \n",
    "         color='darkorange', \n",
    "         label='Patient died within 5 years of surgery, n={}'.format(len(df_survival_no)))\n",
    "\n",
    "ax3.set_xlabel('Year of surgery',fontsize=20)\n",
    "ax3.set_ylabel('Relative fraction',fontsize=20)\n",
    "\n",
    "ax3.legend(loc=1, fontsize=14)\n",
    "\n",
    "ax3.set_xlim(58,69)\n",
    "ax3.set_ylim(0.00,0.20)\n",
    "\n",
    "plt.tight_layout()\n",
    "\n",
    "plt.savefig(path + '/' + 'haberman_survival.pdf', fig=fig)"
   ]
  },
  {
   "cell_type": "markdown",
   "metadata": {},
   "source": [
    "#### And check whether any of the distributions are statistically different (between each subset of patients) using two-sample KS tests"
   ]
  },
  {
   "cell_type": "code",
   "execution_count": null,
   "metadata": {},
   "outputs": [],
   "source": [
    "ks, p = ks_2samp(df_survival_yes['AGE'], df_survival_no['AGE'])\n",
    "print('KS two-samples test on age: ', ks, p)\n",
    "\n",
    "if p < 0.05:\n",
    "    print('Statstically significant')\n",
    "else:\n",
    "    print('NOT statstically significant')\n"
   ]
  },
  {
   "cell_type": "code",
   "execution_count": null,
   "metadata": {},
   "outputs": [],
   "source": [
    "ks, p = ks_2samp(df_survival_yes['NODES'], df_survival_no['NODES'],\n",
    "                 alternative='greater')\n",
    "print('KS two-samples test on number of nodes: ', ks, p)\n",
    "\n",
    "if p < 0.05:\n",
    "    print('Statstically significant')\n",
    "else:\n",
    "    print('NOT statstically significant')\n"
   ]
  },
  {
   "cell_type": "code",
   "execution_count": null,
   "metadata": {},
   "outputs": [],
   "source": [
    "ks, p = ks_2samp(df_survival_yes['YEAR'], df_survival_no['YEAR'])\n",
    "print('KS two-samples test on year of operation: ', ks, p)\n",
    "\n",
    "if p < 0.05:\n",
    "    print('Statstically significant')\n",
    "else:\n",
    "    print('NOT statstically significant')\n",
    "    "
   ]
  },
  {
   "cell_type": "markdown",
   "metadata": {},
   "source": [
    "#### Make the cumulative distribution function (CDF) for the number of positive axillary nodes..."
   ]
  },
  {
   "cell_type": "code",
   "execution_count": null,
   "metadata": {},
   "outputs": [],
   "source": [
    "fig = plt.figure(figsize=(8,8))\n",
    "\n",
    "# Plot the histograms and return the bins sizes and bin edges\n",
    "counts_no, bin_edges_no, _ = plt.hist(df_survival_no['NODES'], bins=np.arange(0,55,1), \n",
    "         lw=2, histtype='step', density=True, cumulative=True,\n",
    "         color='darkorange', \n",
    "         label='Patient died within 5 years of surgery, n={}'.format(len(df_survival_no)))\n",
    "\n",
    "counts_yes, bin_edges_yes, _ = plt.hist(df_survival_yes['NODES'], bins=np.arange(0,55,1), \n",
    "         lw=2, histtype='step', density=True, cumulative=True,\n",
    "         color='dodgerblue', \n",
    "         label='Patient survived 5+ years after surgery, n={}'.format(len(df_survival_yes)))\n",
    "       \n",
    "# Plot formatting\n",
    "plt.xlabel('Number of positive axillary nodes detected',fontsize=20)\n",
    "plt.ylabel('Cummulative fraction',fontsize=20)\n",
    "plt.legend(loc=2, fontsize=14)\n",
    "\n",
    "plt.ylim(0.00,1.20)\n",
    "\n",
    "# Save figure\n",
    "plt.tight_layout()\n",
    "\n",
    "plt.savefig(path + '/' + 'haberman_nodes_survival_CDF.pdf')\n"
   ]
  },
  {
   "cell_type": "markdown",
   "metadata": {},
   "source": [
    "#### And use the CDF to determine the fraction of each group of patients that had fewer than 5 nodes"
   ]
  },
  {
   "cell_type": "code",
   "execution_count": null,
   "metadata": {},
   "outputs": [],
   "source": [
    "n_nodes = 5\n",
    "print('{:.2f}% of patients who survived 5 years or longer after the surgery had fewer than {} nodes.'.format(counts_yes[n_nodes-1]*100.0, n_nodes))\n",
    "print('But, {:.2f}% of patients who died within 5 years of the surgery ALSO had fewer than {} nodes.'.format(counts_no[n_nodes-1]*100.0, n_nodes))\n"
   ]
  },
  {
   "cell_type": "markdown",
   "metadata": {},
   "source": [
    "#### Check for any obvious trends between parameters"
   ]
  },
  {
   "cell_type": "code",
   "execution_count": null,
   "metadata": {},
   "outputs": [],
   "source": [
    "fig, ax = plt.subplots(1,2, figsize=(12,8), sharex=True, sharey=True)\n",
    "\n",
    "# Make scatter plots\n",
    "ax[0].scatter(df_survival_yes['AGE'], df_survival_yes['NODES'], color='dodgerblue', \n",
    "              label='Patient survived 5+ years after surgery, n={}'.format(len(df_survival_yes)))\n",
    "ax[1].scatter(df_survival_no['AGE'], df_survival_no['NODES'], color='darkorange', \n",
    "              label='Patient died within 5 years of surgery, n={}'.format(len(df_survival_no)))\n",
    "\n",
    "# Plot formatting\n",
    "ax[0].set_xlabel('Age of patient at time of surgery',fontsize=20)\n",
    "ax[1].set_xlabel('Age of patient at time of surgery',fontsize=20)\n",
    "ax[0].set_ylabel('Number of positive axillary nodes detected',fontsize=20)\n",
    "ax[0].set_title('Patient survived 5+ years after surgery, n={}'.format(len(df_survival_yes)))\n",
    "ax[1].set_title('Patient died within 5 years of surgery, n={}'.format(len(df_survival_no)))\n",
    "\n",
    "#Save figure\n",
    "plt.tight_layout()\n",
    "\n",
    "plt.savefig(path + '/' + 'haberman_nodes_v_age_survival.pdf')\n"
   ]
  },
  {
   "cell_type": "code",
   "execution_count": null,
   "metadata": {},
   "outputs": [],
   "source": [
    "fig, ax = plt.subplots(1,2, figsize=(12,8), sharex=True, sharey=True)\n",
    "\n",
    "# Make scatter plots\n",
    "ax[0].scatter(df_survival_yes['YEAR'], df_survival_yes['NODES'], color='dodgerblue', \n",
    "              label='Patient survived 5+ years after surgery, n={}'.format(len(df_survival_yes)))\n",
    "ax[1].scatter(df_survival_no['YEAR'], df_survival_no['NODES'], color='darkorange', \n",
    "              label='Patient died within 5 years of surgery, n={}'.format(len(df_survival_no)))\n",
    "\n",
    "# Plot formatting\n",
    "ax[0].set_xlabel('Year of surgery',fontsize=20)\n",
    "ax[1].set_xlabel('Year of surgery',fontsize=20)\n",
    "ax[0].set_ylabel('Number of positive axillary nodes detected',fontsize=20)\n",
    "ax[0].set_title('Patient survived 5+ years after surgery, n={}'.format(len(df_survival_yes)))\n",
    "ax[1].set_title('Patient died within 5 years of surgery, n={}'.format(len(df_survival_no)))\n",
    "\n",
    "# Save figure\n",
    "plt.tight_layout()\n",
    "\n",
    "plt.savefig(path + '/' + 'haberman_nodes_v_year_survival.pdf')\n"
   ]
  },
  {
   "cell_type": "code",
   "execution_count": null,
   "metadata": {},
   "outputs": [],
   "source": [
    "fig, ax = plt.subplots(1,2, figsize=(12,8), sharex=True, sharey=True)\n",
    "\n",
    "# Make scatter plots\n",
    "ax[0].scatter(df_survival_yes['AGE'], df_survival_yes['YEAR'], color='dodgerblue', \n",
    "              label='Patient survived 5+ years after surgery, n={}'.format(len(df_survival_yes)))\n",
    "ax[1].scatter(df_survival_no['AGE'], df_survival_no['YEAR'], color='darkorange', \n",
    "              label='Patient died within 5 years of surgery, n={}'.format(len(df_survival_no)))\n",
    "\n",
    "# Plot formatting\n",
    "ax[0].set_xlabel('Age of patient at time of surgery',fontsize=20)\n",
    "ax[1].set_xlabel('Age of patient at time of surgery',fontsize=20)\n",
    "ax[0].set_ylabel('Year of surgery',fontsize=20)\n",
    "ax[0].set_title('Patient survived 5+ years after surgery, n={}'.format(len(df_survival_yes)))\n",
    "ax[1].set_title('Patient died within 5 years of surgery, n={}'.format(len(df_survival_no)))\n",
    "\n",
    "# Save figure\n",
    "plt.tight_layout()\n",
    "\n",
    "plt.savefig(path + '/' + 'haberman_year_v_age_survival.pdf')\n"
   ]
  }
 ],
 "metadata": {
  "kernelspec": {
   "display_name": "Python 3",
   "language": "python",
   "name": "python3"
  },
  "language_info": {
   "codemirror_mode": {
    "name": "ipython",
    "version": 3
   },
   "file_extension": ".py",
   "mimetype": "text/x-python",
   "name": "python",
   "nbconvert_exporter": "python",
   "pygments_lexer": "ipython3",
   "version": "3.7.7"
  }
 },
 "nbformat": 4,
 "nbformat_minor": 4
}

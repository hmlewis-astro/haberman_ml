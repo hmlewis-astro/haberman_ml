{
 "cells": [
  {
   "cell_type": "code",
   "execution_count": 110,
   "metadata": {},
   "outputs": [],
   "source": [
    "import sys\n",
    "import os\n",
    "\n",
    "path = os.getcwd()\n",
    "\n",
    "from collections import Counter\n",
    "\n",
    "import matplotlib\n",
    "import matplotlib.pyplot as plt\n",
    "\n",
    "import numpy as np\n",
    "\n",
    "import pandas as pd\n",
    "\n",
    "import scipy.stats\n",
    "\n",
    "from sklearn.discriminant_analysis import LinearDiscriminantAnalysis, QuadraticDiscriminantAnalysis\n",
    "from sklearn.dummy import DummyClassifier\n",
    "from sklearn.gaussian_process import GaussianProcessClassifier\n",
    "from sklearn.preprocessing import LabelEncoder, MinMaxScaler, PowerTransformer, StandardScaler\n",
    "from sklearn.linear_model import LogisticRegression\n",
    "from sklearn.metrics import brier_score_loss, make_scorer\n",
    "from sklearn.model_selection import cross_val_score, RepeatedStratifiedKFold\n",
    "from sklearn.naive_bayes import GaussianNB, MultinomialNB\n",
    "from sklearn.pipeline import Pipeline\n",
    "\n",
    "matplotlib.rcParams.update({'xtick.labelsize': 16})\n",
    "matplotlib.rcParams.update({'ytick.labelsize': 16})"
   ]
  },
  {
   "cell_type": "code",
   "execution_count": 40,
   "metadata": {},
   "outputs": [],
   "source": [
    "# Read in the csv file\n",
    "df = pd.read_csv(path + '/' + 'haberman.data.csv')"
   ]
  },
  {
   "cell_type": "code",
   "execution_count": 41,
   "metadata": {},
   "outputs": [
    {
     "data": {
      "text/html": [
       "<div>\n",
       "<style scoped>\n",
       "    .dataframe tbody tr th:only-of-type {\n",
       "        vertical-align: middle;\n",
       "    }\n",
       "\n",
       "    .dataframe tbody tr th {\n",
       "        vertical-align: top;\n",
       "    }\n",
       "\n",
       "    .dataframe thead th {\n",
       "        text-align: right;\n",
       "    }\n",
       "</style>\n",
       "<table border=\"1\" class=\"dataframe\">\n",
       "  <thead>\n",
       "    <tr style=\"text-align: right;\">\n",
       "      <th></th>\n",
       "      <th>AGE</th>\n",
       "      <th>YEAR</th>\n",
       "      <th>NODES</th>\n",
       "      <th>STATE</th>\n",
       "    </tr>\n",
       "  </thead>\n",
       "  <tbody>\n",
       "    <tr>\n",
       "      <th>0</th>\n",
       "      <td>30</td>\n",
       "      <td>64</td>\n",
       "      <td>1</td>\n",
       "      <td>1</td>\n",
       "    </tr>\n",
       "    <tr>\n",
       "      <th>1</th>\n",
       "      <td>30</td>\n",
       "      <td>62</td>\n",
       "      <td>3</td>\n",
       "      <td>1</td>\n",
       "    </tr>\n",
       "    <tr>\n",
       "      <th>2</th>\n",
       "      <td>30</td>\n",
       "      <td>65</td>\n",
       "      <td>0</td>\n",
       "      <td>1</td>\n",
       "    </tr>\n",
       "    <tr>\n",
       "      <th>3</th>\n",
       "      <td>31</td>\n",
       "      <td>59</td>\n",
       "      <td>2</td>\n",
       "      <td>1</td>\n",
       "    </tr>\n",
       "    <tr>\n",
       "      <th>4</th>\n",
       "      <td>31</td>\n",
       "      <td>65</td>\n",
       "      <td>4</td>\n",
       "      <td>1</td>\n",
       "    </tr>\n",
       "  </tbody>\n",
       "</table>\n",
       "</div>"
      ],
      "text/plain": [
       "   AGE  YEAR  NODES  STATE\n",
       "0   30    64      1      1\n",
       "1   30    62      3      1\n",
       "2   30    65      0      1\n",
       "3   31    59      2      1\n",
       "4   31    65      4      1"
      ]
     },
     "execution_count": 41,
     "metadata": {},
     "output_type": "execute_result"
    }
   ],
   "source": [
    "# Understand the layout of the dataframe\n",
    "# AGE   == Age of patient at time of operation\n",
    "# YEAR  == Patient's year of operation (year - 1900)\n",
    "# NODES == Number of positive axillary nodes detected\n",
    "# STATE == Survival status,\n",
    "#     1 == Patient survived 5 years or longer\n",
    "#     2 == Patient died within 5 years\n",
    "df.head()\n"
   ]
  },
  {
   "cell_type": "code",
   "execution_count": 42,
   "metadata": {},
   "outputs": [
    {
     "data": {
      "text/html": [
       "<div>\n",
       "<style scoped>\n",
       "    .dataframe tbody tr th:only-of-type {\n",
       "        vertical-align: middle;\n",
       "    }\n",
       "\n",
       "    .dataframe tbody tr th {\n",
       "        vertical-align: top;\n",
       "    }\n",
       "\n",
       "    .dataframe thead th {\n",
       "        text-align: right;\n",
       "    }\n",
       "</style>\n",
       "<table border=\"1\" class=\"dataframe\">\n",
       "  <thead>\n",
       "    <tr style=\"text-align: right;\">\n",
       "      <th></th>\n",
       "      <th>AGE</th>\n",
       "      <th>YEAR</th>\n",
       "      <th>NODES</th>\n",
       "      <th>STATE</th>\n",
       "    </tr>\n",
       "  </thead>\n",
       "  <tbody>\n",
       "    <tr>\n",
       "      <th>count</th>\n",
       "      <td>306.000000</td>\n",
       "      <td>306.000000</td>\n",
       "      <td>306.000000</td>\n",
       "      <td>306.000000</td>\n",
       "    </tr>\n",
       "    <tr>\n",
       "      <th>mean</th>\n",
       "      <td>52.457516</td>\n",
       "      <td>62.852941</td>\n",
       "      <td>4.026144</td>\n",
       "      <td>1.264706</td>\n",
       "    </tr>\n",
       "    <tr>\n",
       "      <th>std</th>\n",
       "      <td>10.803452</td>\n",
       "      <td>3.249405</td>\n",
       "      <td>7.189654</td>\n",
       "      <td>0.441899</td>\n",
       "    </tr>\n",
       "    <tr>\n",
       "      <th>min</th>\n",
       "      <td>30.000000</td>\n",
       "      <td>58.000000</td>\n",
       "      <td>0.000000</td>\n",
       "      <td>1.000000</td>\n",
       "    </tr>\n",
       "    <tr>\n",
       "      <th>25%</th>\n",
       "      <td>44.000000</td>\n",
       "      <td>60.000000</td>\n",
       "      <td>0.000000</td>\n",
       "      <td>1.000000</td>\n",
       "    </tr>\n",
       "    <tr>\n",
       "      <th>50%</th>\n",
       "      <td>52.000000</td>\n",
       "      <td>63.000000</td>\n",
       "      <td>1.000000</td>\n",
       "      <td>1.000000</td>\n",
       "    </tr>\n",
       "    <tr>\n",
       "      <th>75%</th>\n",
       "      <td>60.750000</td>\n",
       "      <td>65.750000</td>\n",
       "      <td>4.000000</td>\n",
       "      <td>2.000000</td>\n",
       "    </tr>\n",
       "    <tr>\n",
       "      <th>max</th>\n",
       "      <td>83.000000</td>\n",
       "      <td>69.000000</td>\n",
       "      <td>52.000000</td>\n",
       "      <td>2.000000</td>\n",
       "    </tr>\n",
       "  </tbody>\n",
       "</table>\n",
       "</div>"
      ],
      "text/plain": [
       "              AGE        YEAR       NODES       STATE\n",
       "count  306.000000  306.000000  306.000000  306.000000\n",
       "mean    52.457516   62.852941    4.026144    1.264706\n",
       "std     10.803452    3.249405    7.189654    0.441899\n",
       "min     30.000000   58.000000    0.000000    1.000000\n",
       "25%     44.000000   60.000000    0.000000    1.000000\n",
       "50%     52.000000   63.000000    1.000000    1.000000\n",
       "75%     60.750000   65.750000    4.000000    2.000000\n",
       "max     83.000000   69.000000   52.000000    2.000000"
      ]
     },
     "execution_count": 42,
     "metadata": {},
     "output_type": "execute_result"
    }
   ],
   "source": [
    "# Get statistics of the data set\n",
    "df.describe()\n"
   ]
  },
  {
   "cell_type": "code",
   "execution_count": 43,
   "metadata": {},
   "outputs": [
    {
     "data": {
      "image/png": "[encoded data removed]",
      "text/plain": [
       "<Figure size 864x864 with 4 Axes>"
      ]
     },
     "metadata": {
      "needs_background": "light"
     },
     "output_type": "display_data"
    }
   ],
   "source": [
    "fig, ax = plt.subplots(2,2, figsize=(12,12))\n",
    "\n",
    "ax[0,0].hist(df['AGE'], lw=2, histtype='step', color='dodgerblue')\n",
    "ax[0,0].set_xlabel('Age of patient at time of operation',fontsize=20)\n",
    "ax[0,0].set_ylabel('Count')\n",
    "\n",
    "ax[0,1].hist(df['YEAR'], lw=2, histtype='step', color='dodgerblue')\n",
    "ax[0,1].set_xlabel('Year of operation',fontsize=20)\n",
    "ax[0,1].set_ylabel('Count')\n",
    "\n",
    "ax[1,0].hist(df['NODES'], lw=2, histtype='step', color='dodgerblue')\n",
    "ax[1,0].set_xlabel('Number of positive axillary nodes detected',fontsize=20)\n",
    "ax[1,0].set_ylabel('Count')\n",
    "\n",
    "ax[1,1].hist(df['STATE'], lw=2, histtype='step', color='dodgerblue')\n",
    "ax[1,1].set_xlabel('Survival State',fontsize=20)\n",
    "ax[1,1].set_ylabel('Count')\n",
    "\n",
    "plt.tight_layout()\n",
    "\n",
    "plt.savefig(path + '/' + 'haberman_hist.pdf')\n"
   ]
  },
  {
   "cell_type": "code",
   "execution_count": 82,
   "metadata": {},
   "outputs": [
    {
     "name": "stdout",
     "output_type": "stream",
     "text": [
      "Class=1, Count=225, Percentage=73.5\n",
      "Class=2, Count=81, Percentage=26.5\n"
     ]
    }
   ],
   "source": [
    "tar = df['STATE'].values\n",
    "ct = Counter(tar)\n",
    "for k,v in ct.items():\n",
    "    per = v / len(tar) * 100.0\n",
    "    print('Class={0:d}, Count={1:d}, Percentage={2:.1f}'.format(k, v, per))\n",
    "    if k == 2:\n",
    "        per_pos = per/100.0\n",
    "    "
   ]
  },
  {
   "cell_type": "code",
   "execution_count": 83,
   "metadata": {},
   "outputs": [],
   "source": [
    "data = df.values\n",
    "\n",
    "# split into input and output elements\n",
    "X, y = data[:, :-1], data[:, -1]\n",
    "\n",
    "# label encode the target variable to have the classes 0 and 1\n",
    "y = LabelEncoder().fit_transform(y)\n"
   ]
  },
  {
   "cell_type": "code",
   "execution_count": 84,
   "metadata": {},
   "outputs": [],
   "source": [
    "# calculate brier skill score (BSS)\n",
    "def brier_skill_score(y_true, y_prob):\n",
    "    # calculate reference brier score\n",
    "    ref_probs = [per_pos for _ in range(len(y_true))]\n",
    "    bs_ref = brier_score_loss(y_true, ref_probs)\n",
    "    # calculate model brier score\n",
    "    bs_model = brier_score_loss(y_true, y_prob)\n",
    "    # calculate skill score\n",
    "    print(1.0 - (bs_model / bs_ref))\n",
    "    return 1.0 - (bs_model / bs_ref)\n"
   ]
  },
  {
   "cell_type": "code",
   "execution_count": 85,
   "metadata": {},
   "outputs": [],
   "source": [
    "# evaluate a model\n",
    "def evaluate_model(X, y, model):\n",
    "    # define evaluation procedure\n",
    "    cv = RepeatedStratifiedKFold(n_splits=10, n_repeats=3, random_state=1)\n",
    "    # define the model evaluation the metric\n",
    "    metric = make_scorer(brier_skill_score, needs_proba=True)\n",
    "    # evaluate model\n",
    "    scores = cross_val_score(model, X, y, scoring=metric, cv=cv, n_jobs=-1)\n",
    "    return scores\n"
   ]
  },
  {
   "cell_type": "code",
   "execution_count": 86,
   "metadata": {},
   "outputs": [
    {
     "name": "stdout",
     "output_type": "stream",
     "text": [
      "(306, 3) (306,) Counter({0: 225, 1: 81})\n"
     ]
    }
   ],
   "source": [
    "# summarize the loaded dataset\n",
    "print(X.shape, y.shape, Counter(y))\n"
   ]
  },
  {
   "cell_type": "code",
   "execution_count": 87,
   "metadata": {},
   "outputs": [],
   "source": [
    "# define the reference model\n",
    "model = DummyClassifier(strategy='prior')\n"
   ]
  },
  {
   "cell_type": "code",
   "execution_count": 88,
   "metadata": {},
   "outputs": [
    {
     "name": "stdout",
     "output_type": "stream",
     "text": [
      "Mean BSS: -0.000 (0.000)\n"
     ]
    }
   ],
   "source": [
    "# evaluate the model\n",
    "scores = evaluate_model(X, y, model)\n",
    "# summarize performance\n",
    "print('Mean BSS: %.3f (%.3f)' % (np.mean(scores), np.std(scores)))\n"
   ]
  },
  {
   "cell_type": "code",
   "execution_count": 91,
   "metadata": {},
   "outputs": [],
   "source": [
    "# define models\n",
    "models = [LogisticRegression(solver='lbfgs'), LinearDiscriminantAnalysis(),\n",
    "          QuadraticDiscriminantAnalysis(), GaussianNB(), MultinomialNB(),\n",
    "          GaussianProcessClassifier()]\n"
   ]
  },
  {
   "cell_type": "code",
   "execution_count": 98,
   "metadata": {},
   "outputs": [
    {
     "name": "stdout",
     "output_type": "stream",
     "text": [
      ">Logist 0.060 (0.143)\n",
      ">Linear 0.064 (0.154)\n",
      ">Quadra 0.027 (0.221)\n",
      ">Gaussi 0.012 (0.212)\n",
      ">Multin -0.211 (0.369)\n",
      ">Gaussi -0.142 (0.041)\n"
     ]
    }
   ],
   "source": [
    "names, values = list(), list()\n",
    "# evaluate each model\n",
    "for model in models:\n",
    "    # get a name for the model\n",
    "    name = type(model).__name__[:6]\n",
    "    # evaluate the model and store results\n",
    "    scores = evaluate_model(X, y, model)\n",
    "    # summarize and store\n",
    "    print('>%s %.3f (%.3f)' % (name, np.mean(scores), np.std(scores)))\n",
    "    names.append(name)\n",
    "    values.append(scores)\n",
    "    "
   ]
  },
  {
   "cell_type": "code",
   "execution_count": 99,
   "metadata": {},
   "outputs": [
    {
     "data": {
      "image/png": "[encoded data removed]",
      "text/plain": [
       "<Figure size 432x288 with 1 Axes>"
      ]
     },
     "metadata": {
      "needs_background": "light"
     },
     "output_type": "display_data"
    }
   ],
   "source": [
    "# plot the results\n",
    "plt.boxplot(values, labels=names, showmeans=True)\n",
    "plt.show()\n"
   ]
  },
  {
   "cell_type": "code",
   "execution_count": 102,
   "metadata": {},
   "outputs": [],
   "source": [
    "# create a pipeline\n",
    "pip = Pipeline(steps=[('t', StandardScaler()),('m',model)])\n",
    "# evaluate the model and store results\n",
    "scores = evaluate_model(X, y, pip)\n"
   ]
  },
  {
   "cell_type": "code",
   "execution_count": 103,
   "metadata": {},
   "outputs": [],
   "source": [
    "# define models\n",
    "models = [LogisticRegression(solver='lbfgs'), LinearDiscriminantAnalysis(),\n",
    "          QuadraticDiscriminantAnalysis(), GaussianNB(), GaussianProcessClassifier()]\n"
   ]
  },
  {
   "cell_type": "code",
   "execution_count": 105,
   "metadata": {},
   "outputs": [
    {
     "name": "stdout",
     "output_type": "stream",
     "text": [
      ">Logisti 0.062 (0.140)\n",
      ">LinearD 0.064 (0.154)\n",
      ">Quadrat 0.027 (0.221)\n",
      ">Gaussia 0.012 (0.212)\n",
      ">Gaussia 0.097 (0.133)\n"
     ]
    }
   ],
   "source": [
    "names, values = list(), list()\n",
    "# evaluate each model\n",
    "for model in models:\n",
    "    # get a name for the model\n",
    "    name = type(model).__name__[:7]\n",
    "    # create a pipeline\n",
    "    pip = Pipeline(steps=[('t', StandardScaler()),('m',model)])\n",
    "    # evaluate the model and store results\n",
    "    scores = evaluate_model(X, y, pip)\n",
    "    # summarize and store\n",
    "    print('>%s %.3f (%.3f)' % (name, np.mean(scores), np.std(scores)))\n",
    "    names.append(name)\n",
    "    values.append(scores)\n",
    "    "
   ]
  },
  {
   "cell_type": "code",
   "execution_count": 106,
   "metadata": {},
   "outputs": [
    {
     "data": {
      "image/png": "[encoded data removed]",
      "text/plain": [
       "<Figure size 432x288 with 1 Axes>"
      ]
     },
     "metadata": {
      "needs_background": "light"
     },
     "output_type": "display_data"
    }
   ],
   "source": [
    "# plot the results\n",
    "plt.boxplot(values, labels=names, showmeans=True)\n",
    "plt.show()\n"
   ]
  },
  {
   "cell_type": "code",
   "execution_count": 111,
   "metadata": {},
   "outputs": [],
   "source": [
    "# create a pipeline\n",
    "pip = Pipeline(steps=[('t1', MinMaxScaler()), ('t2', PowerTransformer()),('m',model)])\n",
    "# evaluate the model and store results\n",
    "scores = evaluate_model(X, y, pip)\n"
   ]
  },
  {
   "cell_type": "code",
   "execution_count": 112,
   "metadata": {},
   "outputs": [],
   "source": [
    "models = [LogisticRegression(solver='lbfgs'), LinearDiscriminantAnalysis(), GaussianProcessClassifier()]\n"
   ]
  },
  {
   "cell_type": "code",
   "execution_count": 113,
   "metadata": {},
   "outputs": [
    {
     "name": "stdout",
     "output_type": "stream",
     "text": [
      ">Logisti 0.110 (0.142)\n",
      ">LinearD 0.107 (0.164)\n",
      ">Gaussia 0.100 (0.130)\n"
     ]
    }
   ],
   "source": [
    "names, values = list(), list()\n",
    "# evaluate each model\n",
    "for model in models:\n",
    "    # get a name for the model\n",
    "    name = type(model).__name__[:7]\n",
    "    # create a pipeline\n",
    "    pip = Pipeline(steps=[('t1', MinMaxScaler()), ('t2', PowerTransformer()),('m',model)])\n",
    "    # evaluate the model and store results\n",
    "    scores = evaluate_model(X, y, pip)\n",
    "    # summarize and store\n",
    "    print('>%s %.3f (%.3f)' % (name, np.mean(scores), np.std(scores)))\n",
    "    names.append(name)\n",
    "    values.append(scores)\n",
    "    "
   ]
  },
  {
   "cell_type": "code",
   "execution_count": 115,
   "metadata": {},
   "outputs": [
    {
     "data": {
      "image/png": "[encoded data removed]",
      "text/plain": [
       "<Figure size 432x288 with 1 Axes>"
      ]
     },
     "metadata": {
      "needs_background": "light"
     },
     "output_type": "display_data"
    }
   ],
   "source": [
    "# plot the results\n",
    "plt.boxplot(values, labels=names, showmeans=True)\n",
    "plt.show()\n"
   ]
  },
  {
   "cell_type": "code",
   "execution_count": 116,
   "metadata": {},
   "outputs": [
    {
     "data": {
      "text/plain": [
       "Pipeline(steps=[('t1', MinMaxScaler()), ('t2', PowerTransformer()),\n",
       "                ('m', LogisticRegression())])"
      ]
     },
     "execution_count": 116,
     "metadata": {},
     "output_type": "execute_result"
    }
   ],
   "source": [
    "# fit the model\n",
    "model = Pipeline(steps=[('t1', MinMaxScaler()), ('t2', PowerTransformer()),('m',LogisticRegression(solver='lbfgs'))])\n",
    "model.fit(X, y)\n"
   ]
  },
  {
   "cell_type": "code",
   "execution_count": 118,
   "metadata": {},
   "outputs": [
    {
     "name": "stdout",
     "output_type": "stream",
     "text": [
      "Survival Cases:\n",
      ">data=[31, 59, 2], Survival=83.597%\n",
      ">data=[31, 65, 4], Survival=77.264%\n",
      ">data=[34, 60, 1], Survival=86.776%\n"
     ]
    }
   ],
   "source": [
    "# some survival cases\n",
    "print('Known Survival Cases:')\n",
    "data = [[31,59,2], [31,65,4], [34,60,1]]\n",
    "for row in data:\n",
    "    # make prediction\n",
    "    yhat = model.predict_proba([row])\n",
    "    # get percentage of survival\n",
    "    p_survive = yhat[0, 0] * 100\n",
    "    # summarize\n",
    "    print('>data=%s, Survival=%.3f%%' % (row, p_survive))\n",
    "    "
   ]
  },
  {
   "cell_type": "code",
   "execution_count": 119,
   "metadata": {},
   "outputs": [
    {
     "name": "stdout",
     "output_type": "stream",
     "text": [
      "Non-Survival Cases:\n",
      "data=[44, 64, 6], Survival=63.092%\n",
      "data=[34, 66, 9], Survival=63.452%\n",
      "data=[38, 69, 21], Survival=53.389%\n"
     ]
    }
   ],
   "source": [
    "# some non-survival cases\n",
    "print('Known Non-Survival Cases:')\n",
    "data = [[44,64,6], [34,66,9], [38,69,21]]\n",
    "for row in data:\n",
    "    # make prediction\n",
    "    yhat = model.predict_proba([row])\n",
    "    # get percentage of survival\n",
    "    p_survive = yhat[0, 0] * 100\n",
    "    # summarize\n",
    "    print('data=%s, Survival=%.3f%%' % (row, p_survive))\n",
    "    "
   ]
  },
  {
   "cell_type": "code",
   "execution_count": 122,
   "metadata": {},
   "outputs": [
    {
     "name": "stdout",
     "output_type": "stream",
     "text": [
      "Test Cases:\n",
      "data=[26, 66, 0], Survival=93.095%\n",
      "data=[26, 66, 5], Survival=77.119%\n",
      "data=[26, 66, 10], Survival=67.479%\n"
     ]
    }
   ],
   "source": [
    "# some new cases\n",
    "print('Test Cases:')\n",
    "data = [[26,66,0], [26,66,5], [26,66,10]]\n",
    "for row in data:\n",
    "    # make prediction\n",
    "    yhat = model.predict_proba([row])\n",
    "    # get percentage of survival\n",
    "    p_survive = yhat[0, 0] * 100\n",
    "    # summarize\n",
    "    print('data=%s, Survival=%.3f%%' % (row, p_survive))\n",
    "    "
   ]
  },
  {
   "cell_type": "code",
   "execution_count": null,
   "metadata": {},
   "outputs": [],
   "source": []
  }
 ],
 "metadata": {
  "kernelspec": {
   "display_name": "Python 3",
   "language": "python",
   "name": "python3"
  },
  "language_info": {
   "codemirror_mode": {
    "name": "ipython",
    "version": 3
   },
   "file_extension": ".py",
   "mimetype": "text/x-python",
   "name": "python",
   "nbconvert_exporter": "python",
   "pygments_lexer": "ipython3",
   "version": "3.7.7"
  }
 },
 "nbformat": 4,
 "nbformat_minor": 4
}
